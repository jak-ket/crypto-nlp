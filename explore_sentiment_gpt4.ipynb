{
 "cells": [
  {
   "cell_type": "code",
   "execution_count": 21,
   "metadata": {},
   "outputs": [],
   "source": [
    "import pandas as pd\n",
    "from openai import OpenAI # gotta upgrade openai to newest version if already installed: pip install --upgrade openai\n",
    "from tqdm import tqdm\n",
    "from joblib import Parallel, delayed\n",
    "import random"
   ]
  },
  {
   "cell_type": "markdown",
   "metadata": {},
   "source": [
    "# GPT labelling"
   ]
  },
  {
   "cell_type": "code",
   "execution_count": 23,
   "metadata": {},
   "outputs": [],
   "source": [
    "df1 = pd.read_csv(\"human_eval/human_sent_eval_0_labeled.csv\")\n",
    "df2 = pd.read_csv(\"human_eval/human_sent_eval_1_labeled.csv\")\n",
    "\n",
    "df = pd.concat([df1, df2])"
   ]
  },
  {
   "cell_type": "code",
   "execution_count": 27,
   "metadata": {},
   "outputs": [
    {
     "name": "stderr",
     "output_type": "stream",
     "text": [
      "100%|██████████| 100/100 [00:03<00:00, 26.50it/s]\n"
     ]
    }
   ],
   "source": [
    "def gpt_sentiment_classification(post_text: str):\n",
    "    try:\n",
    "        \n",
    "        # Set the OpenAI API key to a specific value\n",
    "        client = OpenAI(\n",
    "            # defaults to os.environ.get(\"OPENAI_API_KEY\")\n",
    "            api_key=\"\"\n",
    "        )\n",
    "        system_prompt = \"\"\"\n",
    "        Categorize the provided reddit post as \"positive\" if the post is positive about bitcoin, \"negative\" if it is negative about bitcoin. If none of these categories are applicable or it is unclear, please respond with \"none/unclear\". Respond briefly with \"positive\", \"negative\", or \"none/unclear\".\n",
    "        \"\"\"\n",
    "        \n",
    "        prompt = \"Post: \" + post_text\n",
    "\n",
    "        response = client.chat.completions.create(\n",
    "                                            model=\"gpt-4o\", \n",
    "                                            messages = [{\"role\": \"system\", \"content\": system_prompt}, \n",
    "                                            {\"role\": \"user\", \"content\": prompt}], temperature=0\n",
    "                                            )\n",
    "\n",
    "        answer = response.choices[0].message.content.strip()\n",
    "\n",
    "        return answer, post_text\n",
    "    except Exception as e:\n",
    "        print(e)\n",
    "        return None, None\n",
    "\n",
    "text = df[\"selftext\"].tolist()\n",
    "out = Parallel(n_jobs=-1)(delayed(gpt_sentiment_classification)(post) for post in tqdm(text))"
   ]
  },
  {
   "cell_type": "code",
   "execution_count": 30,
   "metadata": {},
   "outputs": [],
   "source": [
    "sentiments, posts = zip(*out)"
   ]
  },
  {
   "cell_type": "code",
   "execution_count": 33,
   "metadata": {},
   "outputs": [],
   "source": [
    "df[\"gpt_sentiment\"] = sentiments\n",
    "\n",
    "# Map sentiment to 1, 0, -1\n",
    "sentiment_map = {\"positive\": 1, \"negative\": -1, \"none/unclear\": 0}\n",
    "df[\"gpt_sentiment\"] = df[\"gpt_sentiment\"].map(sentiment_map)"
   ]
  },
  {
   "cell_type": "code",
   "execution_count": 34,
   "metadata": {},
   "outputs": [],
   "source": [
    "df.to_csv(\"human_eval/human_sent_eval_gpt_labeled.csv\", index=False)"
   ]
  },
  {
   "cell_type": "markdown",
   "metadata": {},
   "source": [
    "# Roberta Labelling"
   ]
  },
  {
   "cell_type": "code",
   "execution_count": null,
   "metadata": {},
   "outputs": [],
   "source": []
  },
  {
   "cell_type": "markdown",
   "metadata": {},
   "source": [
    "# Analysis"
   ]
  },
  {
   "cell_type": "code",
   "execution_count": 42,
   "metadata": {},
   "outputs": [
    {
     "data": {
      "image/png": "[encoded data removed]",
      "text/plain": [
       "<Figure size 800x600 with 1 Axes>"
      ]
     },
     "metadata": {},
     "output_type": "display_data"
    }
   ],
   "source": [
    "import pandas as pd\n",
    "from sklearn.metrics import confusion_matrix\n",
    "import seaborn as sns\n",
    "import matplotlib.pyplot as plt\n",
    "\n",
    "# Replace 'df' with your actual DataFrame variable name\n",
    "human_sent = df[\"human_label\"].tolist()\n",
    "gpt_sent = df[\"gpt_sentiment\"].tolist()\n",
    "\n",
    "# Mapping numeric labels to textual labels\n",
    "labels_dict = {-1: \"Negative\", 0: \"Neutral\", 1: \"Positive\"}\n",
    "human_sent_labels = [labels_dict[label] for label in human_sent]\n",
    "gpt_sent_labels = [labels_dict[label] for label in gpt_sent]\n",
    "\n",
    "matrix = confusion_matrix(human_sent_labels, gpt_sent_labels, labels=[\"Negative\", \"Neutral\", \"Positive\"])\n",
    "\n",
    "sns.set(style=\"whitegrid\")\n",
    "plt.figure(figsize=(8, 6))\n",
    "ax = sns.heatmap(matrix, annot=True, fmt=\"d\", cmap=\"Greens\", cbar=False)\n",
    "ax.set_xticklabels([\"Negative\", \"Neutral\", \"Positive\"])\n",
    "ax.set_yticklabels([\"Negative\", \"Neutral\", \"Positive\"], rotation=0)\n",
    "plt.xlabel('GPT Predicted')\n",
    "plt.ylabel('Human Actual')\n",
    "plt.title('Nature-Themed Confusion Matrix')\n",
    "plt.show()\n",
    "\n"
   ]
  }
 ],
 "metadata": {
  "kernelspec": {
   "display_name": "Python 3",
   "language": "python",
   "name": "python3"
  },
  "language_info": {
   "codemirror_mode": {
    "name": "ipython",
    "version": 3
   },
   "file_extension": ".py",
   "mimetype": "text/x-python",
   "name": "python",
   "nbconvert_exporter": "python",
   "pygments_lexer": "ipython3",
   "version": "3.11.6"
  }
 },
 "nbformat": 4,
 "nbformat_minor": 2
}
