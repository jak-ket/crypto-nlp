{
 "cells": [
  {
   "cell_type": "code",
   "execution_count": 1,
   "metadata": {},
   "outputs": [],
   "source": [
    "import math\n",
    "import pandas as pd\n",
    "from tqdm.notebook import tqdm as tqdm\n",
    "from transformers import pipeline\n",
    "import nltk\n",
    "from nltk.sentiment.vader import SentimentIntensityAnalyzer\n",
    "# from vaderSentiment import SentimentIntensityAnalyzer\n",
    "from nltk.corpus import stopwords\n",
    "from nltk.tokenize import word_tokenize\n",
    "from nltk.stem import WordNetLemmatizer\n",
    "\n",
    "from data_utils import load_reddit_data\n",
    "from utils import set_pandas_display_options"
   ]
  },
  {
   "cell_type": "code",
   "execution_count": 2,
   "metadata": {},
   "outputs": [],
   "source": [
    "%load_ext autoreload\n",
    "%autoreload 2   "
   ]
  },
  {
   "cell_type": "code",
   "execution_count": 3,
   "metadata": {},
   "outputs": [],
   "source": [
    "set_pandas_display_options()"
   ]
  },
  {
   "cell_type": "code",
   "execution_count": null,
   "metadata": {},
   "outputs": [],
   "source": [
    "# load corpus\n",
    "df = load_reddit_data()"
   ]
  },
  {
   "cell_type": "markdown",
   "metadata": {},
   "source": [
    "# Prepare corpus"
   ]
  },
  {
   "cell_type": "code",
   "execution_count": 12,
   "metadata": {},
   "outputs": [],
   "source": [
    "# remove missings\n",
    "df = df.dropna(subset = \"selftext\")\n",
    "\n",
    "# filter corpus\n",
    "df = df[df[\"removed\"] != 1]\n",
    "df = df[df[\"author\"] != \"rBitcoinMod\"]\n",
    "df = df[df[\"num_comments\"] > 10]\n"
   ]
  },
  {
   "cell_type": "code",
   "execution_count": 13,
   "metadata": {},
   "outputs": [
    {
     "data": {
      "text/plain": [
       "(7978, 25)"
      ]
     },
     "execution_count": 13,
     "metadata": {},
     "output_type": "execute_result"
    }
   ],
   "source": [
    "df.shape"
   ]
  },
  {
   "cell_type": "code",
   "execution_count": 14,
   "metadata": {},
   "outputs": [],
   "source": [
    "# convert to datetime\n",
    "df[\"datetime\"] = pd.to_datetime(df[\"created\"], unit=\"s\")\\\n",
    "\n",
    "# Set 'datetime' column as the index\n",
    "# assert len(df[\"datetime\"].unique()) == df.shape[0]\n",
    "# df.set_index('datetime', inplace=True, drop = True) # dont do this as datetime is not unique"
   ]
  },
  {
   "cell_type": "markdown",
   "metadata": {},
   "source": [
    "# Relevance of posts\n",
    "Classify whether posts are related to **bitcoin trading**"
   ]
  },
  {
   "cell_type": "markdown",
   "metadata": {},
   "source": [
    "Mistral LLM automatic tagging"
   ]
  },
  {
   "cell_type": "code",
   "execution_count": 15,
   "metadata": {},
   "outputs": [],
   "source": [
    "# mistral model\n",
    "\n",
    "# mist = mistral_relevant_text_identification(df, \"selftext\")\n",
    "# mist.to_csv(\"mistral_tagging.csv\", index=False)\n",
    "\n",
    "# load checkpoint\n",
    "mist = pd.read_csv(\"mistral_tagging.csv\")"
   ]
  },
  {
   "cell_type": "markdown",
   "metadata": {},
   "source": [
    "simple keyword search"
   ]
  },
  {
   "cell_type": "code",
   "execution_count": 16,
   "metadata": {},
   "outputs": [],
   "source": [
    "KW_BITCOIN = [\"bitcoin\", \"btc\"]\n",
    "KW_TRADING = [\"trading\", \"trade\", \"market\", \"price\", \"value\", \"money\", \"indicator\", \"future\", \"derivative\", \"news\",\n",
    "              \"invest\", \"buy\", \"bought\", \"sell\", \"sold\", \"win\", \"won\", \"bull\", \"bear\", \"pump\", \"dump\",\n",
    "              \"hodl\", \"moon\", \"walls\", \"bagholder\", \"whale\", \"fomo\"]\n",
    "# TODO: are wallet posts trading related?\n",
    "# KW_WALLET = [\"wallet\"]\n",
    "\n",
    "df[\"contains_kw_bitcoin\"] = df[\"selftext\"].str.lower().str.contains(\"|\".join(KW_BITCOIN))\n",
    "df[\"contains_kw_trading\"] = df[\"selftext\"].str.lower().str.contains(\"|\".join(KW_TRADING))\n",
    "# df[\"contains_kw_wallet\"] = df[\"selftext\"].str.lower().str.contains(\"|\".join(KW_WALLET))\n",
    "df[\"contains_kw_bitcoin_trading\"] = df[\"contains_kw_bitcoin\"] & df[\"contains_kw_trading\"] # & ~df[\"contains_kw_wallet\"]"
   ]
  },
  {
   "cell_type": "code",
   "execution_count": 17,
   "metadata": {},
   "outputs": [
    {
     "data": {
      "text/plain": [
       "contains_kw_bitcoin_trading\n",
       "True     4029\n",
       "False    3949\n",
       "Name: count, dtype: int64"
      ]
     },
     "execution_count": 17,
     "metadata": {},
     "output_type": "execute_result"
    }
   ],
   "source": [
    "df[\"contains_kw_bitcoin_trading\"].value_counts()"
   ]
  },
  {
   "cell_type": "code",
   "execution_count": 18,
   "metadata": {},
   "outputs": [],
   "source": [
    "# df[\"selftext\"].str.split(\" \").explode().value_counts().head(100)"
   ]
  },
  {
   "cell_type": "code",
   "execution_count": 19,
   "metadata": {},
   "outputs": [
    {
     "data": {
      "text/html": [
       "<div>\n",
       "<style scoped>\n",
       "    .dataframe tbody tr th:only-of-type {\n",
       "        vertical-align: middle;\n",
       "    }\n",
       "\n",
       "    .dataframe tbody tr th {\n",
       "        vertical-align: top;\n",
       "    }\n",
       "\n",
       "    .dataframe thead th {\n",
       "        text-align: right;\n",
       "    }\n",
       "</style>\n",
       "<table border=\"1\" class=\"dataframe\">\n",
       "  <thead>\n",
       "    <tr style=\"text-align: right;\">\n",
       "      <th></th>\n",
       "      <th>contains_kw_bitcoin_trading</th>\n",
       "      <th>selftext</th>\n",
       "    </tr>\n",
       "  </thead>\n",
       "  <tbody>\n",
       "    <tr>\n",
       "      <th>6</th>\n",
       "      <td>True</td>\n",
       "      <td>I only have .03 btc but I still feel early as I'm the only one in my family or friendgroup to have any btc.\\n\\nIf you, in the start of 2022, know enough about BTC to have some already, you're EARLY. I know we're all sad we didn't buy at .o2 cents (or whatever it was)  but it's NEVER too late to start making better decisions. \\n\\nSo here's to all my Sat Stackers who are slowly, humbly, going to make it. \\n\\nCheers! Here's to BTC at any cost!</td>\n",
       "    </tr>\n",
       "    <tr>\n",
       "      <th>23</th>\n",
       "      <td>True</td>\n",
       "      <td>Just a genuine question, I’ve googled biggest bitcoin wallets and I could only see Binance and a few other exchanges at the top. With 1 person in the billions but no where near the amount Satoshi has which I heard is 1million bitcoins? Anyway are his bitcoins counted as lost? Or still part of the supply? If it was factually announced they were lost forever somehow this would surge price because of the [law of demand](https://www.investopedia.com/terms/l/law-of-supply-demand.asp). Also would it be plausible for him to have split his bitcoins across multiple wallets and drain each wallet individually? I understand transaction history has Time stamps but I’m not sure if that was a thing in 2010\\n\\n So my question is Satoshi are you dead and if your not dead where are your bitcoins?</td>\n",
       "    </tr>\n",
       "    <tr>\n",
       "      <th>32</th>\n",
       "      <td>True</td>\n",
       "      <td>If people see the value going up then why is it a must as someone who’s not invested in Bitcoin to wanna do it now. Wouldn’t other crypto coins be more valuable to those who haven’t yet.</td>\n",
       "    </tr>\n",
       "    <tr>\n",
       "      <th>43</th>\n",
       "      <td>False</td>\n",
       "      <td>Thank god it is on sale, idk that I could take it if I had to pay so much for it this soon.</td>\n",
       "    </tr>\n",
       "    <tr>\n",
       "      <th>47</th>\n",
       "      <td>True</td>\n",
       "      <td>I bought $1,000 AUD in BTC on 29th Jan 2021.\\n\\n[https://www.blockchain.com/btc/address/1GGqWYmYK78xEVxe9Xm6Fm8d1gd9rYMn9p](https://www.blockchain.com/btc/address/1GGqWYmYK78xEVxe9Xm6Fm8d1gd9rYMn9p)\\n\\nWhen I try to access the bitcoin wallet I can't.\\n\\nCan anyone help with this?\\n\\nThanks</td>\n",
       "    </tr>\n",
       "  </tbody>\n",
       "</table>\n",
       "</div>"
      ],
      "text/plain": [
       "    contains_kw_bitcoin_trading  \\\n",
       "6                          True   \n",
       "23                         True   \n",
       "32                         True   \n",
       "43                        False   \n",
       "47                         True   \n",
       "\n",
       "                                                                                                                                                                                                                                                                                                                                                                                                                                                                                                                                                                                                                                                                                                                                                                                                                 selftext  \n",
       "6                                                                                                                                                                                                                                                                                                                                                            I only have .03 btc but I still feel early as I'm the only one in my family or friendgroup to have any btc.\\n\\nIf you, in the start of 2022, know enough about BTC to have some already, you're EARLY. I know we're all sad we didn't buy at .o2 cents (or whatever it was)  but it's NEVER too late to start making better decisions. \\n\\nSo here's to all my Sat Stackers who are slowly, humbly, going to make it. \\n\\nCheers! Here's to BTC at any cost!  \n",
       "23  Just a genuine question, I’ve googled biggest bitcoin wallets and I could only see Binance and a few other exchanges at the top. With 1 person in the billions but no where near the amount Satoshi has which I heard is 1million bitcoins? Anyway are his bitcoins counted as lost? Or still part of the supply? If it was factually announced they were lost forever somehow this would surge price because of the [law of demand](https://www.investopedia.com/terms/l/law-of-supply-demand.asp). Also would it be plausible for him to have split his bitcoins across multiple wallets and drain each wallet individually? I understand transaction history has Time stamps but I’m not sure if that was a thing in 2010\\n\\n So my question is Satoshi are you dead and if your not dead where are your bitcoins?  \n",
       "32                                                                                                                                                                                                                                                                                                                                                                                                                                                                                                                                                                                                                             If people see the value going up then why is it a must as someone who’s not invested in Bitcoin to wanna do it now. Wouldn’t other crypto coins be more valuable to those who haven’t yet.  \n",
       "43                                                                                                                                                                                                                                                                                                                                                                                                                                                                                                                                                                                                                                                                                                                            Thank god it is on sale, idk that I could take it if I had to pay so much for it this soon.  \n",
       "47                                                                                                                                                                                                                                                                                                                                                                                                                                                                                                                     I bought $1,000 AUD in BTC on 29th Jan 2021.\\n\\n[https://www.blockchain.com/btc/address/1GGqWYmYK78xEVxe9Xm6Fm8d1gd9rYMn9p](https://www.blockchain.com/btc/address/1GGqWYmYK78xEVxe9Xm6Fm8d1gd9rYMn9p)\\n\\nWhen I try to access the bitcoin wallet I can't.\\n\\nCan anyone help with this?\\n\\nThanks  "
      ]
     },
     "execution_count": 19,
     "metadata": {},
     "output_type": "execute_result"
    }
   ],
   "source": [
    "df[[\"contains_kw_bitcoin_trading\", \"selftext\"]].head()"
   ]
  },
  {
   "cell_type": "markdown",
   "metadata": {},
   "source": [
    "compare performance: expect mistral to positively classify finds of keyword search "
   ]
  },
  {
   "cell_type": "code",
   "execution_count": 20,
   "metadata": {},
   "outputs": [],
   "source": [
    "df[\"submission\"] = df[\"submission\"].astype(str)\n",
    "mist[\"submission\"] = mist[\"submission\"].astype(str)\n",
    "bench = pd.merge(df, mist[[\"submission\", \"mistral_tagging\"]], on=\"submission\")"
   ]
  },
  {
   "cell_type": "code",
   "execution_count": 21,
   "metadata": {},
   "outputs": [
    {
     "data": {
      "text/plain": [
       "mistral_tagging\n",
       "NaN    3720\n",
       "0.0     301\n",
       "1.0       8\n",
       "Name: count, dtype: int64"
      ]
     },
     "execution_count": 21,
     "metadata": {},
     "output_type": "execute_result"
    }
   ],
   "source": [
    "bench.loc[bench[\"contains_kw_bitcoin_trading\"], \"mistral_tagging\"].value_counts(dropna=False)   "
   ]
  },
  {
   "cell_type": "markdown",
   "metadata": {},
   "source": [
    "# Sentiment of posts\n",
    "Calculate sentiment label and score "
   ]
  },
  {
   "cell_type": "markdown",
   "metadata": {},
   "source": [
    "huggingface/distilroberta"
   ]
  },
  {
   "cell_type": "code",
   "execution_count": 4,
   "metadata": {},
   "outputs": [],
   "source": [
    "# MODEL = \"mrm8488/distilroberta-finetuned-financial-news-sentiment-analysis\"\n",
    "# sentiment_task = pipeline(\"sentiment-analysis\", model=MODEL, tokenizer=MODEL)\n",
    "\n",
    "def remove_special_chars(text):\n",
    "    return ''.join(e for e in text if e.isalnum() or e.isspace())\n",
    "\n",
    "# sentiments_label = []\n",
    "# sentiments_score = []\n",
    "# for txt in tqdm(df[\"selftext\"].values):\n",
    "#     txt = remove_special_chars(txt)\n",
    "#     try:\n",
    "#         sentiment = sentiment_task(txt)\n",
    "#         sentiments_label.append(sentiment[0][\"label\"])\n",
    "#         sentiments_score.append(sentiment[0][\"score\"])\n",
    "#     except Exception as e:\n",
    "#         sentiments_label.append(\"N/A\")\n",
    "#         sentiments_score.append(0)\n",
    "\n",
    "# load checkpoint\n",
    "roberta_sent = pd.read_csv(\"bitcoin_2022/sentiment.csv\")"
   ]
  },
  {
   "cell_type": "code",
   "execution_count": 5,
   "metadata": {},
   "outputs": [
    {
     "data": {
      "text/plain": [
       "sentiment_label\n",
       "neutral     12655\n",
       "positive     1524\n",
       "negative     1393\n",
       "Name: count, dtype: int64"
      ]
     },
     "execution_count": 5,
     "metadata": {},
     "output_type": "execute_result"
    }
   ],
   "source": [
    "roberta_sent[\"sentiment_label\"].value_counts()"
   ]
  },
  {
   "cell_type": "markdown",
   "metadata": {},
   "source": [
    "nltk + vaderSentiment"
   ]
  },
  {
   "cell_type": "code",
   "execution_count": 31,
   "metadata": {},
   "outputs": [],
   "source": [
    "# nltk.download('all')"
   ]
  },
  {
   "cell_type": "code",
   "execution_count": 27,
   "metadata": {},
   "outputs": [],
   "source": [
    "# create preprocess_text function\n",
    "def preprocess_text(text):\n",
    "    # Tokenize the text\n",
    "    tokens = word_tokenize(text.lower())\n",
    "\n",
    "    # Remove stop words\n",
    "    filtered_tokens = [token for token in tokens if token not in stopwords.words('english')]\n",
    "\n",
    "    # Lemmatize the tokens\n",
    "    lemmatizer = WordNetLemmatizer()\n",
    "    lemmatized_tokens = [lemmatizer.lemmatize(token) for token in filtered_tokens]\n",
    "\n",
    "    # Join the tokens back into a string\n",
    "    processed_text = ' '.join(lemmatized_tokens)\n",
    "\n",
    "    return processed_text\n",
    "\n",
    "# apply the function df\n",
    "\n",
    "df['selftext_processed'] = df['selftext'].apply(preprocess_text)"
   ]
  },
  {
   "cell_type": "code",
   "execution_count": 78,
   "metadata": {},
   "outputs": [],
   "source": [
    "# initialize NLTK sentiment analyzer\n",
    "analyzer = SentimentIntensityAnalyzer()\n",
    "\n",
    "# get sentiment scores\n",
    "df[\"sentiment_scores_vader\"] = df['selftext_processed'].apply(analyzer.polarity_scores)\n",
    "\n",
    "# get maximum score label\n",
    "def get_sentiment_label(scores):\n",
    "    del scores[\"compound\"]\n",
    "    label = max(scores, key=scores.get)\n",
    "    return label\n",
    "df[\"sentiment_label_vader\"] = df[\"sentiment_scores_vader\"].apply(get_sentiment_label)\n",
    "\n",
    "# get score for maximum scored label\n",
    "df[\"sentiment_score_vader\"] = df[[\"sentiment_scores_vader\", \"sentiment_label_vader\"]].apply(lambda x: x[\"sentiment_scores_vader\"][x[\"sentiment_label_vader\"]], axis=1) "
   ]
  },
  {
   "cell_type": "code",
   "execution_count": 79,
   "metadata": {},
   "outputs": [
    {
     "data": {
      "text/plain": [
       "sentiment_label_vader\n",
       "neu    7743\n",
       "pos     172\n",
       "neg      63\n",
       "Name: count, dtype: int64"
      ]
     },
     "execution_count": 79,
     "metadata": {},
     "output_type": "execute_result"
    }
   ],
   "source": [
    "df[\"sentiment_label_vader\"].value_counts()"
   ]
  },
  {
   "cell_type": "code",
   "execution_count": 80,
   "metadata": {},
   "outputs": [
    {
     "data": {
      "text/html": [
       "<div>\n",
       "<style scoped>\n",
       "    .dataframe tbody tr th:only-of-type {\n",
       "        vertical-align: middle;\n",
       "    }\n",
       "\n",
       "    .dataframe tbody tr th {\n",
       "        vertical-align: top;\n",
       "    }\n",
       "\n",
       "    .dataframe thead th {\n",
       "        text-align: right;\n",
       "    }\n",
       "</style>\n",
       "<table border=\"1\" class=\"dataframe\">\n",
       "  <thead>\n",
       "    <tr style=\"text-align: right;\">\n",
       "      <th></th>\n",
       "      <th>submission</th>\n",
       "      <th>subreddit</th>\n",
       "      <th>author</th>\n",
       "      <th>created</th>\n",
       "      <th>retrieved</th>\n",
       "      <th>edited</th>\n",
       "      <th>pinned</th>\n",
       "      <th>archived</th>\n",
       "      <th>locked</th>\n",
       "      <th>removed</th>\n",
       "      <th>...</th>\n",
       "      <th>thumbnail</th>\n",
       "      <th>shortlink</th>\n",
       "      <th>datetime</th>\n",
       "      <th>contains_kw_bitcoin</th>\n",
       "      <th>contains_kw_trading</th>\n",
       "      <th>contains_kw_bitcoin_trading</th>\n",
       "      <th>selftext_processed</th>\n",
       "      <th>sentiment_scores_vader</th>\n",
       "      <th>sentiment_label_vader</th>\n",
       "      <th>sentiment_score_vader</th>\n",
       "    </tr>\n",
       "  </thead>\n",
       "  <tbody>\n",
       "    <tr>\n",
       "      <th>112</th>\n",
       "      <td>rtos7o</td>\n",
       "      <td>bitcoin</td>\n",
       "      <td>KNOWYOURs3lf</td>\n",
       "      <td>1641060542</td>\n",
       "      <td>1641140399</td>\n",
       "      <td>0</td>\n",
       "      <td>0</td>\n",
       "      <td>0</td>\n",
       "      <td>0</td>\n",
       "      <td>0</td>\n",
       "      <td>...</td>\n",
       "      <td>self</td>\n",
       "      <td>https://redd.it/rtos7o</td>\n",
       "      <td>2022-01-01 18:09:02</td>\n",
       "      <td>False</td>\n",
       "      <td>False</td>\n",
       "      <td>False</td>\n",
       "      <td>thanks input .</td>\n",
       "      <td>{'neg': 0.0, 'neu': 0.256, 'pos': 0.744}</td>\n",
       "      <td>pos</td>\n",
       "      <td>0.744</td>\n",
       "    </tr>\n",
       "    <tr>\n",
       "      <th>249</th>\n",
       "      <td>ru78mb</td>\n",
       "      <td>bitcoin</td>\n",
       "      <td>Altruistic_Baker_423</td>\n",
       "      <td>1641120269</td>\n",
       "      <td>1641165997</td>\n",
       "      <td>0</td>\n",
       "      <td>0</td>\n",
       "      <td>0</td>\n",
       "      <td>0</td>\n",
       "      <td>0</td>\n",
       "      <td>...</td>\n",
       "      <td>self</td>\n",
       "      <td>https://redd.it/ru78mb</td>\n",
       "      <td>2022-01-02 10:44:29</td>\n",
       "      <td>False</td>\n",
       "      <td>False</td>\n",
       "      <td>False</td>\n",
       "      <td>thank answer , stay safe &amp; truly game-changing 2022 ! 🖖</td>\n",
       "      <td>{'neg': 0.0, 'neu': 0.318, 'pos': 0.682}</td>\n",
       "      <td>pos</td>\n",
       "      <td>0.682</td>\n",
       "    </tr>\n",
       "    <tr>\n",
       "      <th>650</th>\n",
       "      <td>rvmajx</td>\n",
       "      <td>bitcoin</td>\n",
       "      <td>mjbasty1</td>\n",
       "      <td>1641272877</td>\n",
       "      <td>1641316710</td>\n",
       "      <td>0</td>\n",
       "      <td>0</td>\n",
       "      <td>0</td>\n",
       "      <td>0</td>\n",
       "      <td>0</td>\n",
       "      <td>...</td>\n",
       "      <td>self</td>\n",
       "      <td>https://redd.it/rvmajx</td>\n",
       "      <td>2022-01-04 05:07:57</td>\n",
       "      <td>False</td>\n",
       "      <td>False</td>\n",
       "      <td>False</td>\n",
       "      <td>successfully taken ownership key . thanks sub push knowledge . feel great .</td>\n",
       "      <td>{'neg': 0.0, 'neu': 0.407, 'pos': 0.593}</td>\n",
       "      <td>pos</td>\n",
       "      <td>0.593</td>\n",
       "    </tr>\n",
       "    <tr>\n",
       "      <th>1192</th>\n",
       "      <td>rx81am</td>\n",
       "      <td>bitcoin</td>\n",
       "      <td>iPostOnlyWhenHigh</td>\n",
       "      <td>1641451611</td>\n",
       "      <td>1641495310</td>\n",
       "      <td>0</td>\n",
       "      <td>0</td>\n",
       "      <td>0</td>\n",
       "      <td>0</td>\n",
       "      <td>0</td>\n",
       "      <td>...</td>\n",
       "      <td>self</td>\n",
       "      <td>https://redd.it/rx81am</td>\n",
       "      <td>2022-01-06 06:46:51</td>\n",
       "      <td>False</td>\n",
       "      <td>True</td>\n",
       "      <td>False</td>\n",
       "      <td>? bought day . ’ welcome .</td>\n",
       "      <td>{'neg': 0.0, 'neu': 0.4, 'pos': 0.6}</td>\n",
       "      <td>pos</td>\n",
       "      <td>0.600</td>\n",
       "    </tr>\n",
       "    <tr>\n",
       "      <th>1579</th>\n",
       "      <td>ry4p6q</td>\n",
       "      <td>bitcoin</td>\n",
       "      <td>perla-madonna</td>\n",
       "      <td>1641552266</td>\n",
       "      <td>1641596829</td>\n",
       "      <td>0</td>\n",
       "      <td>0</td>\n",
       "      <td>0</td>\n",
       "      <td>0</td>\n",
       "      <td>0</td>\n",
       "      <td>...</td>\n",
       "      <td>self</td>\n",
       "      <td>https://redd.it/ry4p6q</td>\n",
       "      <td>2022-01-07 10:44:26</td>\n",
       "      <td>False</td>\n",
       "      <td>True</td>\n",
       "      <td>False</td>\n",
       "      <td>look like ‘ good point sell</td>\n",
       "      <td>{'neg': 0.0, 'neu': 0.357, 'pos': 0.643}</td>\n",
       "      <td>pos</td>\n",
       "      <td>0.643</td>\n",
       "    </tr>\n",
       "    <tr>\n",
       "      <th>...</th>\n",
       "      <td>...</td>\n",
       "      <td>...</td>\n",
       "      <td>...</td>\n",
       "      <td>...</td>\n",
       "      <td>...</td>\n",
       "      <td>...</td>\n",
       "      <td>...</td>\n",
       "      <td>...</td>\n",
       "      <td>...</td>\n",
       "      <td>...</td>\n",
       "      <td>...</td>\n",
       "      <td>...</td>\n",
       "      <td>...</td>\n",
       "      <td>...</td>\n",
       "      <td>...</td>\n",
       "      <td>...</td>\n",
       "      <td>...</td>\n",
       "      <td>...</td>\n",
       "      <td>...</td>\n",
       "      <td>...</td>\n",
       "      <td>...</td>\n",
       "    </tr>\n",
       "    <tr>\n",
       "      <th>66306</th>\n",
       "      <td>zxj33r</td>\n",
       "      <td>bitcoin</td>\n",
       "      <td>Fluffy_Ad_2277</td>\n",
       "      <td>1672257096</td>\n",
       "      <td>1672305799</td>\n",
       "      <td>0</td>\n",
       "      <td>0</td>\n",
       "      <td>0</td>\n",
       "      <td>0</td>\n",
       "      <td>0</td>\n",
       "      <td>...</td>\n",
       "      <td>self</td>\n",
       "      <td>https://redd.it/zxj33r</td>\n",
       "      <td>2022-12-28 19:51:36</td>\n",
       "      <td>False</td>\n",
       "      <td>False</td>\n",
       "      <td>False</td>\n",
       "      <td>thanks advance .</td>\n",
       "      <td>{'neg': 0.0, 'neu': 0.256, 'pos': 0.744}</td>\n",
       "      <td>pos</td>\n",
       "      <td>0.744</td>\n",
       "    </tr>\n",
       "    <tr>\n",
       "      <th>66314</th>\n",
       "      <td>zxjxds</td>\n",
       "      <td>bitcoin</td>\n",
       "      <td>MessierEigthySeven</td>\n",
       "      <td>1672259078</td>\n",
       "      <td>1672305799</td>\n",
       "      <td>0</td>\n",
       "      <td>0</td>\n",
       "      <td>0</td>\n",
       "      <td>0</td>\n",
       "      <td>0</td>\n",
       "      <td>...</td>\n",
       "      <td>self</td>\n",
       "      <td>https://redd.it/zxjxds</td>\n",
       "      <td>2022-12-28 20:24:38</td>\n",
       "      <td>True</td>\n",
       "      <td>False</td>\n",
       "      <td>False</td>\n",
       "      <td>want make sure defend myself/bitcoin ; )</td>\n",
       "      <td>{'neg': 0.0, 'neu': 0.455, 'pos': 0.545}</td>\n",
       "      <td>pos</td>\n",
       "      <td>0.545</td>\n",
       "    </tr>\n",
       "    <tr>\n",
       "      <th>66475</th>\n",
       "      <td>zz2xlv</td>\n",
       "      <td>bitcoin</td>\n",
       "      <td>fionda08v2</td>\n",
       "      <td>1672413395</td>\n",
       "      <td>1672496405</td>\n",
       "      <td>0</td>\n",
       "      <td>0</td>\n",
       "      <td>0</td>\n",
       "      <td>0</td>\n",
       "      <td>0</td>\n",
       "      <td>...</td>\n",
       "      <td>self</td>\n",
       "      <td>https://redd.it/zz2xlv</td>\n",
       "      <td>2022-12-30 15:16:35</td>\n",
       "      <td>True</td>\n",
       "      <td>False</td>\n",
       "      <td>False</td>\n",
       "      <td>good afternoon btc community . would like ask think best way safely store btc . think paper wallet best hard wallet ?</td>\n",
       "      <td>{'neg': 0.045, 'neu': 0.414, 'pos': 0.541}</td>\n",
       "      <td>pos</td>\n",
       "      <td>0.541</td>\n",
       "    </tr>\n",
       "    <tr>\n",
       "      <th>66492</th>\n",
       "      <td>zz9ttn</td>\n",
       "      <td>bitcoin</td>\n",
       "      <td>Unknownpersona1111</td>\n",
       "      <td>1672430200</td>\n",
       "      <td>1672496407</td>\n",
       "      <td>0</td>\n",
       "      <td>0</td>\n",
       "      <td>0</td>\n",
       "      <td>0</td>\n",
       "      <td>0</td>\n",
       "      <td>...</td>\n",
       "      <td>self</td>\n",
       "      <td>https://redd.it/zz9ttn</td>\n",
       "      <td>2022-12-30 19:56:40</td>\n",
       "      <td>False</td>\n",
       "      <td>False</td>\n",
       "      <td>False</td>\n",
       "      <td>skewed thing ? thanks</td>\n",
       "      <td>{'neg': 0.0, 'neu': 0.408, 'pos': 0.592}</td>\n",
       "      <td>pos</td>\n",
       "      <td>0.592</td>\n",
       "    </tr>\n",
       "    <tr>\n",
       "      <th>66527</th>\n",
       "      <td>zzrph8</td>\n",
       "      <td>bitcoin</td>\n",
       "      <td>BananaxStealth</td>\n",
       "      <td>1672484645</td>\n",
       "      <td>1672531402</td>\n",
       "      <td>0</td>\n",
       "      <td>0</td>\n",
       "      <td>0</td>\n",
       "      <td>0</td>\n",
       "      <td>0</td>\n",
       "      <td>...</td>\n",
       "      <td>self</td>\n",
       "      <td>https://redd.it/zzrph8</td>\n",
       "      <td>2022-12-31 11:04:05</td>\n",
       "      <td>False</td>\n",
       "      <td>False</td>\n",
       "      <td>False</td>\n",
       "      <td>safe legal practice ?</td>\n",
       "      <td>{'neg': 0.0, 'neu': 0.185, 'pos': 0.815}</td>\n",
       "      <td>pos</td>\n",
       "      <td>0.815</td>\n",
       "    </tr>\n",
       "  </tbody>\n",
       "</table>\n",
       "<p>172 rows × 33 columns</p>\n",
       "</div>"
      ],
      "text/plain": [
       "      submission subreddit                author     created   retrieved  \\\n",
       "112       rtos7o   bitcoin          KNOWYOURs3lf  1641060542  1641140399   \n",
       "249       ru78mb   bitcoin  Altruistic_Baker_423  1641120269  1641165997   \n",
       "650       rvmajx   bitcoin              mjbasty1  1641272877  1641316710   \n",
       "1192      rx81am   bitcoin     iPostOnlyWhenHigh  1641451611  1641495310   \n",
       "1579      ry4p6q   bitcoin         perla-madonna  1641552266  1641596829   \n",
       "...          ...       ...                   ...         ...         ...   \n",
       "66306     zxj33r   bitcoin        Fluffy_Ad_2277  1672257096  1672305799   \n",
       "66314     zxjxds   bitcoin    MessierEigthySeven  1672259078  1672305799   \n",
       "66475     zz2xlv   bitcoin            fionda08v2  1672413395  1672496405   \n",
       "66492     zz9ttn   bitcoin    Unknownpersona1111  1672430200  1672496407   \n",
       "66527     zzrph8   bitcoin        BananaxStealth  1672484645  1672531402   \n",
       "\n",
       "       edited  pinned  archived  locked  removed  ...  thumbnail  \\\n",
       "112         0       0         0       0        0  ...       self   \n",
       "249         0       0         0       0        0  ...       self   \n",
       "650         0       0         0       0        0  ...       self   \n",
       "1192        0       0         0       0        0  ...       self   \n",
       "1579        0       0         0       0        0  ...       self   \n",
       "...       ...     ...       ...     ...      ...  ...        ...   \n",
       "66306       0       0         0       0        0  ...       self   \n",
       "66314       0       0         0       0        0  ...       self   \n",
       "66475       0       0         0       0        0  ...       self   \n",
       "66492       0       0         0       0        0  ...       self   \n",
       "66527       0       0         0       0        0  ...       self   \n",
       "\n",
       "                    shortlink            datetime  contains_kw_bitcoin  \\\n",
       "112    https://redd.it/rtos7o 2022-01-01 18:09:02                False   \n",
       "249    https://redd.it/ru78mb 2022-01-02 10:44:29                False   \n",
       "650    https://redd.it/rvmajx 2022-01-04 05:07:57                False   \n",
       "1192   https://redd.it/rx81am 2022-01-06 06:46:51                False   \n",
       "1579   https://redd.it/ry4p6q 2022-01-07 10:44:26                False   \n",
       "...                       ...                 ...                  ...   \n",
       "66306  https://redd.it/zxj33r 2022-12-28 19:51:36                False   \n",
       "66314  https://redd.it/zxjxds 2022-12-28 20:24:38                 True   \n",
       "66475  https://redd.it/zz2xlv 2022-12-30 15:16:35                 True   \n",
       "66492  https://redd.it/zz9ttn 2022-12-30 19:56:40                False   \n",
       "66527  https://redd.it/zzrph8 2022-12-31 11:04:05                False   \n",
       "\n",
       "      contains_kw_trading contains_kw_bitcoin_trading  \\\n",
       "112                 False                       False   \n",
       "249                 False                       False   \n",
       "650                 False                       False   \n",
       "1192                 True                       False   \n",
       "1579                 True                       False   \n",
       "...                   ...                         ...   \n",
       "66306               False                       False   \n",
       "66314               False                       False   \n",
       "66475               False                       False   \n",
       "66492               False                       False   \n",
       "66527               False                       False   \n",
       "\n",
       "                                                                                                          selftext_processed  \\\n",
       "112                                                                                                           thanks input .   \n",
       "249                                                                  thank answer , stay safe & truly game-changing 2022 ! 🖖   \n",
       "650                                              successfully taken ownership key . thanks sub push knowledge . feel great .   \n",
       "1192                                                                                              ? bought day . ’ welcome .   \n",
       "1579                                                                                             look like ‘ good point sell   \n",
       "...                                                                                                                      ...   \n",
       "66306                                                                                                       thanks advance .   \n",
       "66314                                                                               want make sure defend myself/bitcoin ; )   \n",
       "66475  good afternoon btc community . would like ask think best way safely store btc . think paper wallet best hard wallet ?   \n",
       "66492                                                                                                  skewed thing ? thanks   \n",
       "66527                                                                                                  safe legal practice ?   \n",
       "\n",
       "                           sentiment_scores_vader  sentiment_label_vader  \\\n",
       "112      {'neg': 0.0, 'neu': 0.256, 'pos': 0.744}                    pos   \n",
       "249      {'neg': 0.0, 'neu': 0.318, 'pos': 0.682}                    pos   \n",
       "650      {'neg': 0.0, 'neu': 0.407, 'pos': 0.593}                    pos   \n",
       "1192         {'neg': 0.0, 'neu': 0.4, 'pos': 0.6}                    pos   \n",
       "1579     {'neg': 0.0, 'neu': 0.357, 'pos': 0.643}                    pos   \n",
       "...                                           ...                    ...   \n",
       "66306    {'neg': 0.0, 'neu': 0.256, 'pos': 0.744}                    pos   \n",
       "66314    {'neg': 0.0, 'neu': 0.455, 'pos': 0.545}                    pos   \n",
       "66475  {'neg': 0.045, 'neu': 0.414, 'pos': 0.541}                    pos   \n",
       "66492    {'neg': 0.0, 'neu': 0.408, 'pos': 0.592}                    pos   \n",
       "66527    {'neg': 0.0, 'neu': 0.185, 'pos': 0.815}                    pos   \n",
       "\n",
       "       sentiment_score_vader  \n",
       "112                    0.744  \n",
       "249                    0.682  \n",
       "650                    0.593  \n",
       "1192                   0.600  \n",
       "1579                   0.643  \n",
       "...                      ...  \n",
       "66306                  0.744  \n",
       "66314                  0.545  \n",
       "66475                  0.541  \n",
       "66492                  0.592  \n",
       "66527                  0.815  \n",
       "\n",
       "[172 rows x 33 columns]"
      ]
     },
     "execution_count": 80,
     "metadata": {},
     "output_type": "execute_result"
    }
   ],
   "source": [
    "df[df[\"sentiment_label_vader\"]==\"pos\"] # mostely very short texts"
   ]
  },
  {
   "cell_type": "code",
   "execution_count": 6,
   "metadata": {},
   "outputs": [],
   "source": [
    "# df.to_csv(\"bitcoin_2022/sentiment_vader.csv\")\n",
    "df = pd.read_csv(\"bitcoin_2022/sentiment_vader.csv\")"
   ]
  },
  {
   "cell_type": "markdown",
   "metadata": {},
   "source": [
    "Human Eval of sentiment analysis"
   ]
  },
  {
   "cell_type": "code",
   "execution_count": 7,
   "metadata": {},
   "outputs": [],
   "source": [
    "eval_full = pd.merge(\n",
    "    df.loc[\n",
    "        # filter on bitcoin trading\n",
    "        df[\"contains_kw_bitcoin_trading\"], [\"submission\", \"selftext\", \"contains_kw_bitcoin_trading\", \"selftext_processed\", \"sentiment_scores_vader\", \"sentiment_label_vader\", \"sentiment_score_vader\"]], \n",
    "    roberta_sent[[\"submission\", \"sentiment_label\", \"sentiment_score\"]], on=[\"submission\"], how=\"inner\")"
   ]
  },
  {
   "cell_type": "code",
   "execution_count": 8,
   "metadata": {},
   "outputs": [],
   "source": [
    "n_sample = 100\n",
    "eval_template = eval_full[[\"submission\", \"selftext\"]].sample(n_sample).copy()\n",
    "eval_template[\"human_label\"] = pd.NA"
   ]
  },
  {
   "cell_type": "code",
   "execution_count": 11,
   "metadata": {},
   "outputs": [],
   "source": [
    "import math\n",
    "n_splits = 2\n",
    "for i in range(2):\n",
    "    split_size = math.floor(n_sample / n_splits)\n",
    "    eval_template.iloc[split_size*i : split_size*(i+1)].to_csv(f\"bitcoin_2022/human_sent_eval_{i}.csv\", index=False)"
   ]
  }
 ],
 "metadata": {
  "kernelspec": {
   "display_name": "ds",
   "language": "python",
   "name": "python3"
  },
  "language_info": {
   "codemirror_mode": {
    "name": "ipython",
    "version": 3
   },
   "file_extension": ".py",
   "mimetype": "text/x-python",
   "name": "python",
   "nbconvert_exporter": "python",
   "pygments_lexer": "ipython3",
   "version": "3.12.2"
  }
 },
 "nbformat": 4,
 "nbformat_minor": 2
}
