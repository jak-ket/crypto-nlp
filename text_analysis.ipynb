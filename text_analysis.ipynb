{
 "cells": [
  {
   "cell_type": "code",
   "execution_count": 18,
   "metadata": {},
   "outputs": [],
   "source": [
    "import math\n",
    "import pandas as pd\n",
    "from tqdm.notebook import tqdm as tqdm\n",
    "# from transformers import pipeline\n",
    "import nltk\n",
    "from nltk.sentiment.vader import SentimentIntensityAnalyzer\n",
    "# from vaderSentiment import SentimentIntensityAnalyzer\n",
    "from nltk.corpus import stopwords\n",
    "from nltk.tokenize import word_tokenize\n",
    "from nltk.stem import WordNetLemmatizer\n",
    "\n",
    "from data_utils import load_reddit_data\n",
    "from utils import set_pandas_display_options"
   ]
  },
  {
   "cell_type": "code",
   "execution_count": 19,
   "metadata": {},
   "outputs": [],
   "source": [
    "%load_ext autoreload\n",
    "%autoreload 2   "
   ]
  },
  {
   "cell_type": "code",
   "execution_count": 20,
   "metadata": {},
   "outputs": [],
   "source": [
    "set_pandas_display_options()"
   ]
  },
  {
   "cell_type": "code",
   "execution_count": 21,
   "metadata": {},
   "outputs": [],
   "source": [
    "# load corpus\n",
    "df = load_reddit_data()"
   ]
  },
  {
   "cell_type": "markdown",
   "metadata": {},
   "source": [
    "# Prepare corpus"
   ]
  },
  {
   "cell_type": "code",
   "execution_count": 22,
   "metadata": {},
   "outputs": [],
   "source": [
    "# remove missings\n",
    "df = df.dropna(subset = \"selftext\")\n",
    "\n",
    "# filter corpus\n",
    "df = df[df[\"removed\"] != 1]\n",
    "df = df[df[\"author\"] != \"rBitcoinMod\"]\n",
    "df = df[df[\"num_comments\"] > 10]\n"
   ]
  },
  {
   "cell_type": "code",
   "execution_count": 23,
   "metadata": {},
   "outputs": [
    {
     "data": {
      "text/plain": [
       "(7978, 25)"
      ]
     },
     "execution_count": 23,
     "metadata": {},
     "output_type": "execute_result"
    }
   ],
   "source": [
    "df.shape"
   ]
  },
  {
   "cell_type": "code",
   "execution_count": 24,
   "metadata": {},
   "outputs": [],
   "source": [
    "# convert to datetime\n",
    "df[\"datetime\"] = pd.to_datetime(df[\"created\"], unit=\"s\")\\\n",
    "\n",
    "# Set 'datetime' column as the index\n",
    "# assert len(df[\"datetime\"].unique()) == df.shape[0]\n",
    "# df.set_index('datetime', inplace=True, drop = True) # dont do this as datetime is not unique"
   ]
  },
  {
   "cell_type": "markdown",
   "metadata": {},
   "source": [
    "# Relevance of posts\n",
    "Classify whether posts are related to **bitcoin trading**"
   ]
  },
  {
   "cell_type": "markdown",
   "metadata": {},
   "source": [
    "Mistral LLM automatic tagging"
   ]
  },
  {
   "cell_type": "code",
   "execution_count": 25,
   "metadata": {},
   "outputs": [],
   "source": [
    "# mistral model\n",
    "\n",
    "# mist = mistral_relevant_text_identification(df, \"selftext\")\n",
    "# mist.to_csv(\"mistral_tagging.csv\", index=False)\n",
    "\n",
    "# load checkpoint\n",
    "mist = pd.read_csv(\"bitcoin_2022/mistral_tagging_full.csv\")"
   ]
  },
  {
   "cell_type": "markdown",
   "metadata": {},
   "source": [
    "simple keyword search"
   ]
  },
  {
   "cell_type": "code",
   "execution_count": 26,
   "metadata": {},
   "outputs": [],
   "source": [
    "KW_BITCOIN = [\"bitcoin\", \"btc\"]\n",
    "KW_TRADING = [\"trading\", \"trade\", \"market\", \"price\", \"value\", \"money\", \"indicator\", \"future\", \"derivative\", \"news\",\n",
    "              \"invest\", \"buy\", \"bought\", \"sell\", \"sold\", \"win\", \"won\", \"bull\", \"bear\", \"pump\", \"dump\",\n",
    "              \"hodl\", \"moon\", \"walls\", \"bagholder\", \"whale\", \"fomo\"]\n",
    "# TODO: are wallet posts trading related?\n",
    "# KW_WALLET = [\"wallet\"]\n",
    "\n",
    "df[\"contains_kw_bitcoin\"] = df[\"selftext\"].str.lower().str.contains(\"|\".join(KW_BITCOIN))\n",
    "df[\"contains_kw_trading\"] = df[\"selftext\"].str.lower().str.contains(\"|\".join(KW_TRADING))\n",
    "# df[\"contains_kw_wallet\"] = df[\"selftext\"].str.lower().str.contains(\"|\".join(KW_WALLET))\n",
    "df[\"contains_kw_bitcoin_trading\"] = df[\"contains_kw_bitcoin\"] & df[\"contains_kw_trading\"] # & ~df[\"contains_kw_wallet\"]"
   ]
  },
  {
   "cell_type": "code",
   "execution_count": 27,
   "metadata": {},
   "outputs": [
    {
     "data": {
      "text/plain": [
       "contains_kw_bitcoin_trading\n",
       "True     4029\n",
       "False    3949\n",
       "Name: count, dtype: int64"
      ]
     },
     "execution_count": 27,
     "metadata": {},
     "output_type": "execute_result"
    }
   ],
   "source": [
    "df[\"contains_kw_bitcoin_trading\"].value_counts()"
   ]
  },
  {
   "cell_type": "code",
   "execution_count": 28,
   "metadata": {},
   "outputs": [],
   "source": [
    "# df[\"selftext\"].str.split(\" \").explode().value_counts().head(100)"
   ]
  },
  {
   "cell_type": "code",
   "execution_count": 29,
   "metadata": {},
   "outputs": [],
   "source": [
    "# df[[\"contains_kw_bitcoin_trading\", \"selftext\"]].head()"
   ]
  },
  {
   "cell_type": "markdown",
   "metadata": {},
   "source": [
    "compare performance: expect mistral to positively classify finds of keyword search "
   ]
  },
  {
   "cell_type": "code",
   "execution_count": 30,
   "metadata": {},
   "outputs": [],
   "source": [
    "df[\"submission\"] = df[\"submission\"].astype(str)\n",
    "mist[\"submission\"] = mist[\"submission\"].astype(str)\n",
    "bench = pd.merge(df, mist[[\"submission\", \"mistral_tagging\"]], on=\"submission\")"
   ]
  },
  {
   "cell_type": "code",
   "execution_count": 31,
   "metadata": {},
   "outputs": [
    {
     "data": {
      "text/plain": [
       "mistral_tagging\n",
       "0    3893\n",
       "1     136\n",
       "Name: count, dtype: int64"
      ]
     },
     "execution_count": 31,
     "metadata": {},
     "output_type": "execute_result"
    }
   ],
   "source": [
    "bench.loc[bench[\"contains_kw_bitcoin_trading\"], \"mistral_tagging\"].value_counts(dropna=False)   "
   ]
  },
  {
   "cell_type": "markdown",
   "metadata": {},
   "source": [
    "# Sentiment of posts\n",
    "Calculate sentiment label and score "
   ]
  },
  {
   "cell_type": "markdown",
   "metadata": {},
   "source": [
    "huggingface/distilroberta"
   ]
  },
  {
   "cell_type": "code",
   "execution_count": 2,
   "metadata": {},
   "outputs": [],
   "source": [
    "# MODEL = \"mrm8488/distilroberta-finetuned-financial-news-sentiment-analysis\"\n",
    "# sentiment_task = pipeline(\"sentiment-analysis\", model=MODEL, tokenizer=MODEL)\n",
    "\n",
    "def remove_special_chars(text):\n",
    "    return ''.join(e for e in text if e.isalnum() or e.isspace())\n",
    "\n",
    "# sentiments_label = []\n",
    "# sentiments_score = []\n",
    "# for txt in tqdm(df[\"selftext\"].values):\n",
    "#     txt = remove_special_chars(txt)\n",
    "#     try:\n",
    "#         sentiment = sentiment_task(txt)\n",
    "#         sentiments_label.append(sentiment[0][\"label\"])\n",
    "#         sentiments_score.append(sentiment[0][\"score\"])\n",
    "#     except Exception as e:\n",
    "#         sentiments_label.append(\"N/A\")\n",
    "#         sentiments_score.append(0)\n",
    "\n",
    "# load checkpoint\n",
    "roberta_sent = pd.read_csv(\"bitcoin_2022/sentiment.csv\")"
   ]
  },
  {
   "cell_type": "code",
   "execution_count": null,
   "metadata": {},
   "outputs": [
    {
     "data": {
      "text/plain": [
       "sentiment_label\n",
       "neutral     12655\n",
       "positive     1524\n",
       "negative     1393\n",
       "Name: count, dtype: int64"
      ]
     },
     "execution_count": 5,
     "metadata": {},
     "output_type": "execute_result"
    }
   ],
   "source": [
    "roberta_sent[\"sentiment_label\"].value_counts()"
   ]
  },
  {
   "cell_type": "markdown",
   "metadata": {},
   "source": [
    "nltk + vaderSentiment"
   ]
  },
  {
   "cell_type": "code",
   "execution_count": null,
   "metadata": {},
   "outputs": [],
   "source": [
    "# nltk.download('all')"
   ]
  },
  {
   "cell_type": "code",
   "execution_count": 63,
   "metadata": {},
   "outputs": [],
   "source": [
    "# create preprocess_text function\n",
    "def preprocess_text(text):\n",
    "    # Tokenize the text\n",
    "    tokens = word_tokenize(text.lower())\n",
    "\n",
    "    # Remove stop words\n",
    "    filtered_tokens = [token for token in tokens if token not in stopwords.words('english')]\n",
    "\n",
    "    # Lemmatize the tokens\n",
    "    lemmatizer = WordNetLemmatizer()\n",
    "    lemmatized_tokens = [lemmatizer.lemmatize(token) for token in filtered_tokens]\n",
    "\n",
    "    # Join the tokens back into a string\n",
    "    processed_text = ' '.join(lemmatized_tokens)\n",
    "\n",
    "    return processed_text\n",
    "\n",
    "# apply the function df\n",
    "\n",
    "df['selftext_processed'] = df['selftext'].apply(preprocess_text)"
   ]
  },
  {
   "cell_type": "code",
   "execution_count": 40,
   "metadata": {},
   "outputs": [],
   "source": [
    "# # work with raw categories\n",
    "\n",
    "# # initialize NLTK sentiment analyzer\n",
    "# analyzer = SentimentIntensityAnalyzer()\n",
    "\n",
    "# # get sentiment scores\n",
    "# df[\"sentiment_scores_vader\"] = df['selftext_processed'].apply(analyzer.polarity_scores)\n",
    "\n",
    "# # get maximum score label\n",
    "# def get_sentiment_label(scores):\n",
    "#     del scores[\"compound\"]\n",
    "#     label = max(scores, key=scores.get)\n",
    "#     return label\n",
    "# df[\"sentiment_label_vader\"] = df[\"sentiment_scores_vader\"].apply(get_sentiment_label)\n",
    "\n",
    "# # get score for maximum scored label\n",
    "# df[\"sentiment_score_vader\"] = df[[\"sentiment_scores_vader\", \"sentiment_label_vader\"]].apply(lambda x: x[\"sentiment_scores_vader\"][x[\"sentiment_label_vader\"]], axis=1) "
   ]
  },
  {
   "cell_type": "code",
   "execution_count": 64,
   "metadata": {},
   "outputs": [],
   "source": [
    "# initialize NLTK sentiment analyzer\n",
    "analyzer = SentimentIntensityAnalyzer()\n",
    "\n",
    "# get sentiment scores\n",
    "df[\"sentiment_scores_vader\"] = df['selftext'].apply(analyzer.polarity_scores)\n",
    "df[\"sentiment_scores_vader_processed_text\"] = df['selftext_processed'].apply(analyzer.polarity_scores)\n",
    "\n",
    "# extract compound score: https://github.com/cjhutto/vaderSentiment?tab=readme-ov-file#about-the-scoring\n",
    "df[\"sentiment_compound_label_vader\"] = df[\"sentiment_scores_vader\"].apply(lambda x: 1 if x[\"compound\"] >= 0.05 else (-1 if x[\"compound\"]<=-0.05 else 0))\n",
    "df[\"sentiment_compound_label_vader_processed_text\"] = df[\"sentiment_scores_vader_processed_text\"].apply(lambda x: 1 if x[\"compound\"] >= 0.05 else (-1 if x[\"compound\"]<=-0.05 else 0))"
   ]
  },
  {
   "cell_type": "code",
   "execution_count": 65,
   "metadata": {},
   "outputs": [
    {
     "data": {
      "text/plain": [
       "sentiment_compound_label_vader_processed_text\n",
       " 1    5264\n",
       "-1    1835\n",
       " 0     879\n",
       "Name: count, dtype: int64"
      ]
     },
     "execution_count": 65,
     "metadata": {},
     "output_type": "execute_result"
    }
   ],
   "source": [
    "df[\"sentiment_compound_label_vader_processed_text\"].value_counts()"
   ]
  },
  {
   "cell_type": "code",
   "execution_count": 41,
   "metadata": {},
   "outputs": [
    {
     "data": {
      "text/plain": [
       "sentiment_compound_label_vader\n",
       " 1    5040\n",
       "-1    2044\n",
       " 0     894\n",
       "Name: count, dtype: int64"
      ]
     },
     "execution_count": 41,
     "metadata": {},
     "output_type": "execute_result"
    }
   ],
   "source": [
    "df[\"sentiment_compound_label_vader\"].value_counts()"
   ]
  },
  {
   "cell_type": "code",
   "execution_count": 45,
   "metadata": {},
   "outputs": [],
   "source": [
    "# df[df[\"sentiment_compound_label_vader\"]==0] "
   ]
  },
  {
   "cell_type": "code",
   "execution_count": 46,
   "metadata": {},
   "outputs": [],
   "source": [
    "# df.to_csv(\"bitcoin_2022/sentiment_vader.csv\")\n",
    "# df = pd.read_csv(\"bitcoin_2022/sentiment_vader.csv\")"
   ]
  },
  {
   "cell_type": "markdown",
   "metadata": {},
   "source": [
    "Human Eval of sentiment analysis"
   ]
  },
  {
   "cell_type": "code",
   "execution_count": null,
   "metadata": {},
   "outputs": [],
   "source": [
    "eval_full = pd.merge(\n",
    "    df.loc[\n",
    "        # filter on bitcoin trading\n",
    "        df[\"contains_kw_bitcoin_trading\"], [\"submission\", \"selftext\", \"contains_kw_bitcoin_trading\", \"selftext_processed\", \"sentiment_scores_vader\", \"sentiment_label_vader\", \"sentiment_score_vader\"]], \n",
    "    roberta_sent[[\"submission\", \"sentiment_label\", \"sentiment_score\"]], on=[\"submission\"], how=\"inner\")"
   ]
  },
  {
   "cell_type": "code",
   "execution_count": null,
   "metadata": {},
   "outputs": [],
   "source": [
    "n_sample = 100\n",
    "eval_template = eval_full[[\"submission\", \"selftext\"]].sample(n_sample).copy()\n",
    "eval_template[\"human_label\"] = pd.NA"
   ]
  },
  {
   "cell_type": "code",
   "execution_count": null,
   "metadata": {},
   "outputs": [],
   "source": [
    "# import math\n",
    "# n_splits = 2\n",
    "# for i in range(2):\n",
    "#     split_size = math.floor(n_sample / n_splits)\n",
    "#     eval_template.iloc[split_size*i : split_size*(i+1)].to_csv(f\"bitcoin_2022/human_sent_eval_{i}.csv\", index=False)"
   ]
  },
  {
   "cell_type": "markdown",
   "metadata": {},
   "source": [
    "Compare sentiment algorithms with human performance"
   ]
  },
  {
   "cell_type": "code",
   "execution_count": 47,
   "metadata": {},
   "outputs": [],
   "source": [
    "df_sent_hum = pd.concat([\n",
    "    pd.read_csv(\"bitcoin_2022/human_sent_eval_0_labeled.csv\"),\n",
    "    pd.read_csv(\"bitcoin_2022/human_sent_eval_1_labeled.csv\"),\n",
    "], axis=0)\n",
    "\n",
    "assert pd.isna(df_sent_hum[\"human_label\"]).sum() == 0\n",
    "assert len(set(df_sent_hum[\"human_label\"].unique()) - {1,0,-1}) == 0"
   ]
  },
  {
   "cell_type": "code",
   "execution_count": 48,
   "metadata": {},
   "outputs": [],
   "source": [
    "roberta_sent = pd.read_csv(\"bitcoin_2022/sentiment.csv\")\n",
    "vader_sent = pd.read_csv(\"bitcoin_2022/sentiment_vader.csv\")"
   ]
  },
  {
   "cell_type": "code",
   "execution_count": 49,
   "metadata": {},
   "outputs": [
    {
     "data": {
      "text/html": [
       "<div>\n",
       "<style scoped>\n",
       "    .dataframe tbody tr th:only-of-type {\n",
       "        vertical-align: middle;\n",
       "    }\n",
       "\n",
       "    .dataframe tbody tr th {\n",
       "        vertical-align: top;\n",
       "    }\n",
       "\n",
       "    .dataframe thead th {\n",
       "        text-align: right;\n",
       "    }\n",
       "</style>\n",
       "<table border=\"1\" class=\"dataframe\">\n",
       "  <thead>\n",
       "    <tr style=\"text-align: right;\">\n",
       "      <th></th>\n",
       "      <th>Unnamed: 0</th>\n",
       "      <th>submission</th>\n",
       "      <th>subreddit</th>\n",
       "      <th>author</th>\n",
       "      <th>created</th>\n",
       "      <th>retrieved</th>\n",
       "      <th>edited</th>\n",
       "      <th>pinned</th>\n",
       "      <th>archived</th>\n",
       "      <th>locked</th>\n",
       "      <th>...</th>\n",
       "      <th>selftext</th>\n",
       "      <th>thumbnail</th>\n",
       "      <th>shortlink</th>\n",
       "      <th>datetime</th>\n",
       "      <th>contains_kw_bitcoin</th>\n",
       "      <th>contains_kw_trading</th>\n",
       "      <th>contains_kw_bitcoin_trading</th>\n",
       "      <th>sentiment_scores_vader</th>\n",
       "      <th>sentiment_compound_score_vader</th>\n",
       "      <th>sentiment_compound_label_vader</th>\n",
       "    </tr>\n",
       "  </thead>\n",
       "  <tbody>\n",
       "    <tr>\n",
       "      <th>0</th>\n",
       "      <td>6</td>\n",
       "      <td>rt7qa5</td>\n",
       "      <td>bitcoin</td>\n",
       "      <td>SilverAndAlgorand</td>\n",
       "      <td>1640998555</td>\n",
       "      <td>1641140399</td>\n",
       "      <td>0</td>\n",
       "      <td>0</td>\n",
       "      <td>0</td>\n",
       "      <td>0</td>\n",
       "      <td>...</td>\n",
       "      <td>I only have .03 btc but I still feel early as I'm the only one in my family or friendgroup to have any btc.\\n\\nIf you, in the start of 2022, know enough about BTC to have some already, you're EARLY. I know we're all sad we didn't buy at .o2 cents (or whatever it was)  but it's NEVER too late to start making better decisions. \\n\\nSo here's to all my Sat Stackers who are slowly, humbly, going to make it. \\n\\nCheers! Here's to BTC at any cost!</td>\n",
       "      <td>self</td>\n",
       "      <td>https://redd.it/rt7qa5</td>\n",
       "      <td>2022-01-01 00:55:55</td>\n",
       "      <td>True</td>\n",
       "      <td>True</td>\n",
       "      <td>True</td>\n",
       "      <td>{'neg': 0.044, 'neu': 0.866, 'pos': 0.091, 'compound': 0.6634}</td>\n",
       "      <td>0.6634</td>\n",
       "      <td>1</td>\n",
       "    </tr>\n",
       "    <tr>\n",
       "      <th>1</th>\n",
       "      <td>23</td>\n",
       "      <td>rta3p4</td>\n",
       "      <td>bitcoin</td>\n",
       "      <td>Still_Hat6758</td>\n",
       "      <td>1641006460</td>\n",
       "      <td>1641140399</td>\n",
       "      <td>0</td>\n",
       "      <td>0</td>\n",
       "      <td>0</td>\n",
       "      <td>0</td>\n",
       "      <td>...</td>\n",
       "      <td>Just a genuine question, I’ve googled biggest bitcoin wallets and I could only see Binance and a few other exchanges at the top. With 1 person in the billions but no where near the amount Satoshi has which I heard is 1million bitcoins? Anyway are his bitcoins counted as lost? Or still part of the supply? If it was factually announced they were lost forever somehow this would surge price because of the [law of demand](https://www.investopedia.com/terms/l/law-of-supply-demand.asp). Also would it be plausible for him to have split his bitcoins across multiple wallets and drain each wallet individually? I understand transaction history has Time stamps but I’m not sure if that was a thing in 2010\\n\\n So my question is Satoshi are you dead and if your not dead where are your bitcoins?</td>\n",
       "      <td>self</td>\n",
       "      <td>https://redd.it/rta3p4</td>\n",
       "      <td>2022-01-01 03:07:40</td>\n",
       "      <td>True</td>\n",
       "      <td>True</td>\n",
       "      <td>True</td>\n",
       "      <td>{'neg': 0.169, 'neu': 0.822, 'pos': 0.01, 'compound': -0.9766}</td>\n",
       "      <td>-0.9766</td>\n",
       "      <td>-1</td>\n",
       "    </tr>\n",
       "    <tr>\n",
       "      <th>2</th>\n",
       "      <td>32</td>\n",
       "      <td>rtb773</td>\n",
       "      <td>bitcoin</td>\n",
       "      <td>train83</td>\n",
       "      <td>1641010349</td>\n",
       "      <td>1641140399</td>\n",
       "      <td>0</td>\n",
       "      <td>0</td>\n",
       "      <td>0</td>\n",
       "      <td>0</td>\n",
       "      <td>...</td>\n",
       "      <td>If people see the value going up then why is it a must as someone who’s not invested in Bitcoin to wanna do it now. Wouldn’t other crypto coins be more valuable to those who haven’t yet.</td>\n",
       "      <td>self</td>\n",
       "      <td>https://redd.it/rtb773</td>\n",
       "      <td>2022-01-01 04:12:29</td>\n",
       "      <td>True</td>\n",
       "      <td>True</td>\n",
       "      <td>True</td>\n",
       "      <td>{'neg': 0.0, 'neu': 0.854, 'pos': 0.146, 'compound': 0.6997}</td>\n",
       "      <td>0.6997</td>\n",
       "      <td>1</td>\n",
       "    </tr>\n",
       "    <tr>\n",
       "      <th>3</th>\n",
       "      <td>43</td>\n",
       "      <td>rtd46j</td>\n",
       "      <td>bitcoin</td>\n",
       "      <td>ghhtedcw5</td>\n",
       "      <td>1641017483</td>\n",
       "      <td>1641140399</td>\n",
       "      <td>0</td>\n",
       "      <td>0</td>\n",
       "      <td>0</td>\n",
       "      <td>0</td>\n",
       "      <td>...</td>\n",
       "      <td>Thank god it is on sale, idk that I could take it if I had to pay so much for it this soon.</td>\n",
       "      <td>self</td>\n",
       "      <td>https://redd.it/rtd46j</td>\n",
       "      <td>2022-01-01 06:11:23</td>\n",
       "      <td>False</td>\n",
       "      <td>False</td>\n",
       "      <td>False</td>\n",
       "      <td>{'neg': 0.115, 'neu': 0.697, 'pos': 0.189, 'compound': 0.4215}</td>\n",
       "      <td>0.4215</td>\n",
       "      <td>1</td>\n",
       "    </tr>\n",
       "    <tr>\n",
       "      <th>4</th>\n",
       "      <td>47</td>\n",
       "      <td>rtece7</td>\n",
       "      <td>bitcoin</td>\n",
       "      <td>buddhistdoc9</td>\n",
       "      <td>1641022446</td>\n",
       "      <td>1641140396</td>\n",
       "      <td>0</td>\n",
       "      <td>0</td>\n",
       "      <td>0</td>\n",
       "      <td>0</td>\n",
       "      <td>...</td>\n",
       "      <td>I bought $1,000 AUD in BTC on 29th Jan 2021.\\n\\n[https://www.blockchain.com/btc/address/1GGqWYmYK78xEVxe9Xm6Fm8d1gd9rYMn9p](https://www.blockchain.com/btc/address/1GGqWYmYK78xEVxe9Xm6Fm8d1gd9rYMn9p)\\n\\nWhen I try to access the bitcoin wallet I can't.\\n\\nCan anyone help with this?\\n\\nThanks</td>\n",
       "      <td>self</td>\n",
       "      <td>https://redd.it/rtece7</td>\n",
       "      <td>2022-01-01 07:34:06</td>\n",
       "      <td>True</td>\n",
       "      <td>True</td>\n",
       "      <td>True</td>\n",
       "      <td>{'neg': 0.083, 'neu': 0.81, 'pos': 0.107, 'compound': 0.1635}</td>\n",
       "      <td>0.1635</td>\n",
       "      <td>1</td>\n",
       "    </tr>\n",
       "  </tbody>\n",
       "</table>\n",
       "<p>5 rows × 33 columns</p>\n",
       "</div>"
      ],
      "text/plain": [
       "   Unnamed: 0 submission subreddit             author     created   retrieved  \\\n",
       "0           6     rt7qa5   bitcoin  SilverAndAlgorand  1640998555  1641140399   \n",
       "1          23     rta3p4   bitcoin      Still_Hat6758  1641006460  1641140399   \n",
       "2          32     rtb773   bitcoin            train83  1641010349  1641140399   \n",
       "3          43     rtd46j   bitcoin          ghhtedcw5  1641017483  1641140399   \n",
       "4          47     rtece7   bitcoin       buddhistdoc9  1641022446  1641140396   \n",
       "\n",
       "   edited  pinned  archived  locked  ...  \\\n",
       "0       0       0         0       0  ...   \n",
       "1       0       0         0       0  ...   \n",
       "2       0       0         0       0  ...   \n",
       "3       0       0         0       0  ...   \n",
       "4       0       0         0       0  ...   \n",
       "\n",
       "                                                                                                                                                                                                                                                                                                                                                                                                                                                                                                                                                                                                                                                                                                                                                                                                                selftext  \\\n",
       "0                                                                                                                                                                                                                                                                                                                                                           I only have .03 btc but I still feel early as I'm the only one in my family or friendgroup to have any btc.\\n\\nIf you, in the start of 2022, know enough about BTC to have some already, you're EARLY. I know we're all sad we didn't buy at .o2 cents (or whatever it was)  but it's NEVER too late to start making better decisions. \\n\\nSo here's to all my Sat Stackers who are slowly, humbly, going to make it. \\n\\nCheers! Here's to BTC at any cost!   \n",
       "1  Just a genuine question, I’ve googled biggest bitcoin wallets and I could only see Binance and a few other exchanges at the top. With 1 person in the billions but no where near the amount Satoshi has which I heard is 1million bitcoins? Anyway are his bitcoins counted as lost? Or still part of the supply? If it was factually announced they were lost forever somehow this would surge price because of the [law of demand](https://www.investopedia.com/terms/l/law-of-supply-demand.asp). Also would it be plausible for him to have split his bitcoins across multiple wallets and drain each wallet individually? I understand transaction history has Time stamps but I’m not sure if that was a thing in 2010\\n\\n So my question is Satoshi are you dead and if your not dead where are your bitcoins?   \n",
       "2                                                                                                                                                                                                                                                                                                                                                                                                                                                                                                                                                                                                                             If people see the value going up then why is it a must as someone who’s not invested in Bitcoin to wanna do it now. Wouldn’t other crypto coins be more valuable to those who haven’t yet.   \n",
       "3                                                                                                                                                                                                                                                                                                                                                                                                                                                                                                                                                                                                                                                                                                                            Thank god it is on sale, idk that I could take it if I had to pay so much for it this soon.   \n",
       "4                                                                                                                                                                                                                                                                                                                                                                                                                                                                                                                     I bought $1,000 AUD in BTC on 29th Jan 2021.\\n\\n[https://www.blockchain.com/btc/address/1GGqWYmYK78xEVxe9Xm6Fm8d1gd9rYMn9p](https://www.blockchain.com/btc/address/1GGqWYmYK78xEVxe9Xm6Fm8d1gd9rYMn9p)\\n\\nWhen I try to access the bitcoin wallet I can't.\\n\\nCan anyone help with this?\\n\\nThanks   \n",
       "\n",
       "   thumbnail               shortlink             datetime  \\\n",
       "0       self  https://redd.it/rt7qa5  2022-01-01 00:55:55   \n",
       "1       self  https://redd.it/rta3p4  2022-01-01 03:07:40   \n",
       "2       self  https://redd.it/rtb773  2022-01-01 04:12:29   \n",
       "3       self  https://redd.it/rtd46j  2022-01-01 06:11:23   \n",
       "4       self  https://redd.it/rtece7  2022-01-01 07:34:06   \n",
       "\n",
       "   contains_kw_bitcoin contains_kw_trading contains_kw_bitcoin_trading  \\\n",
       "0                 True                True                        True   \n",
       "1                 True                True                        True   \n",
       "2                 True                True                        True   \n",
       "3                False               False                       False   \n",
       "4                 True                True                        True   \n",
       "\n",
       "                                           sentiment_scores_vader  \\\n",
       "0  {'neg': 0.044, 'neu': 0.866, 'pos': 0.091, 'compound': 0.6634}   \n",
       "1  {'neg': 0.169, 'neu': 0.822, 'pos': 0.01, 'compound': -0.9766}   \n",
       "2    {'neg': 0.0, 'neu': 0.854, 'pos': 0.146, 'compound': 0.6997}   \n",
       "3  {'neg': 0.115, 'neu': 0.697, 'pos': 0.189, 'compound': 0.4215}   \n",
       "4   {'neg': 0.083, 'neu': 0.81, 'pos': 0.107, 'compound': 0.1635}   \n",
       "\n",
       "   sentiment_compound_score_vader  sentiment_compound_label_vader  \n",
       "0                          0.6634                               1  \n",
       "1                         -0.9766                              -1  \n",
       "2                          0.6997                               1  \n",
       "3                          0.4215                               1  \n",
       "4                          0.1635                               1  \n",
       "\n",
       "[5 rows x 33 columns]"
      ]
     },
     "execution_count": 49,
     "metadata": {},
     "output_type": "execute_result"
    }
   ],
   "source": [
    "vader_sent.head()"
   ]
  },
  {
   "cell_type": "code",
   "execution_count": 50,
   "metadata": {},
   "outputs": [],
   "source": [
    "roberta_sent[\"sentiment_roberta\"] = roberta_sent[\"sentiment_label\"].map({\"positive\":1, \"neutral\":0, \"negative\":-1})\n",
    "# vader_sent[\"sentiment_vader\"] = vader_sent[\"sentiment_label_vader\"].map({\"pos\":1, \"neu\":0, \"neg\":-1})\n",
    "vader_sent[\"sentiment_vader\"] = vader_sent[\"sentiment_compound_label_vader\"] #.map({\"pos\":1, \"neu\":0, \"neg\":-1})"
   ]
  },
  {
   "cell_type": "code",
   "execution_count": 51,
   "metadata": {},
   "outputs": [],
   "source": [
    "from functools import reduce\n",
    "data_frames = [df_sent_hum, roberta_sent[[\"submission\", \"sentiment_roberta\"]], vader_sent[[\"submission\", \"sentiment_vader\"]]]\n",
    "df_sent_comp = reduce(lambda  left,right: pd.merge(left, right, on=['submission'], how='inner'), data_frames)"
   ]
  },
  {
   "cell_type": "code",
   "execution_count": 52,
   "metadata": {},
   "outputs": [],
   "source": [
    "assert df_sent_comp.isna().sum().sum() == 2 # roberta missings\n",
    "df_sent_comp = df_sent_comp.dropna()"
   ]
  },
  {
   "cell_type": "code",
   "execution_count": 53,
   "metadata": {},
   "outputs": [
    {
     "data": {
      "text/plain": [
       "(98, 5)"
      ]
     },
     "execution_count": 53,
     "metadata": {},
     "output_type": "execute_result"
    }
   ],
   "source": [
    "df_sent_comp.shape"
   ]
  },
  {
   "cell_type": "code",
   "execution_count": 54,
   "metadata": {},
   "outputs": [
    {
     "data": {
      "text/plain": [
       "human_label\n",
       " 0.0    39\n",
       "-1.0    30\n",
       " 1.0    29\n",
       "Name: count, dtype: int64"
      ]
     },
     "execution_count": 54,
     "metadata": {},
     "output_type": "execute_result"
    }
   ],
   "source": [
    "df_sent_comp[\"human_label\"].value_counts()"
   ]
  },
  {
   "cell_type": "code",
   "execution_count": 57,
   "metadata": {},
   "outputs": [
    {
     "data": {
      "text/plain": [
       "sentiment_roberta\n",
       " 0.0    71\n",
       " 1.0    20\n",
       "-1.0     7\n",
       "Name: count, dtype: int64"
      ]
     },
     "execution_count": 57,
     "metadata": {},
     "output_type": "execute_result"
    }
   ],
   "source": [
    "df_sent_comp[\"sentiment_roberta\"].value_counts()"
   ]
  },
  {
   "cell_type": "code",
   "execution_count": 58,
   "metadata": {},
   "outputs": [
    {
     "data": {
      "text/plain": [
       "sentiment_vader\n",
       " 1    72\n",
       "-1    22\n",
       " 0     4\n",
       "Name: count, dtype: int64"
      ]
     },
     "execution_count": 58,
     "metadata": {},
     "output_type": "execute_result"
    }
   ],
   "source": [
    "df_sent_comp[\"sentiment_vader\"].value_counts()"
   ]
  },
  {
   "cell_type": "code",
   "execution_count": 59,
   "metadata": {},
   "outputs": [
    {
     "data": {
      "text/plain": [
       "(0.5408163265306123, 0.42857142857142855)"
      ]
     },
     "execution_count": 59,
     "metadata": {},
     "output_type": "execute_result"
    }
   ],
   "source": [
    "from sklearn.metrics import accuracy_score\n",
    "accuracy_score(y_true=df_sent_comp[\"human_label\"], y_pred=df_sent_comp[\"sentiment_roberta\"]),\\\n",
    "accuracy_score(y_true=df_sent_comp[\"human_label\"], y_pred=df_sent_comp[\"sentiment_vader\"])"
   ]
  },
  {
   "cell_type": "code",
   "execution_count": 60,
   "metadata": {},
   "outputs": [],
   "source": [
    "import seaborn as sn\n",
    "import matplotlib.pyplot as plt\n",
    "from sklearn.metrics import confusion_matrix\n",
    "labels = [-1, 0, 1]"
   ]
  },
  {
   "cell_type": "code",
   "execution_count": 69,
   "metadata": {},
   "outputs": [
    {
     "data": {
      "text/plain": [
       "<Axes: title={'center': 'human vs. roberta'}>"
      ]
     },
     "execution_count": 69,
     "metadata": {},
     "output_type": "execute_result"
    },
    {
     "data": {
      "image/png": "[encoded data removed]",
      "text/plain": [
       "<Figure size 500x350 with 2 Axes>"
      ]
     },
     "metadata": {},
     "output_type": "display_data"
    }
   ],
   "source": [
    "cm = confusion_matrix(\n",
    "    y_true=df_sent_comp[\"human_label\"], \n",
    "    y_pred=df_sent_comp[\"sentiment_roberta\"],\n",
    "    labels=labels\n",
    ")\n",
    "\n",
    "df_cm = pd.DataFrame(cm, index = [i for i in labels],\n",
    "                  columns = [i for i in labels])\n",
    "plt.figure(figsize = (5,3.5))\n",
    "plt.title(\"human vs. roberta\")\n",
    "sn.heatmap(df_cm, annot=True)"
   ]
  },
  {
   "cell_type": "code",
   "execution_count": 62,
   "metadata": {},
   "outputs": [
    {
     "data": {
      "text/plain": [
       "<Axes: title={'center': 'human vs. vader'}>"
      ]
     },
     "execution_count": 62,
     "metadata": {},
     "output_type": "execute_result"
    },
    {
     "data": {
      "image/png": "[encoded data removed]",
      "text/plain": [
       "<Figure size 500x350 with 2 Axes>"
      ]
     },
     "metadata": {},
     "output_type": "display_data"
    }
   ],
   "source": [
    "cm = confusion_matrix(\n",
    "    y_true=df_sent_comp[\"human_label\"], \n",
    "    y_pred=df_sent_comp[\"sentiment_vader\"],\n",
    "    labels=labels\n",
    ")\n",
    "\n",
    "df_cm = pd.DataFrame(cm, index = [i for i in labels],\n",
    "                  columns = [i for i in labels])\n",
    "plt.figure(figsize = (5,3.5))\n",
    "plt.title(\"human vs. vader\")\n",
    "sn.heatmap(df_cm, annot=True)"
   ]
  }
 ],
 "metadata": {
  "kernelspec": {
   "display_name": "ds",
   "language": "python",
   "name": "python3"
  },
  "language_info": {
   "codemirror_mode": {
    "name": "ipython",
    "version": 3
   },
   "file_extension": ".py",
   "mimetype": "text/x-python",
   "name": "python",
   "nbconvert_exporter": "python",
   "pygments_lexer": "ipython3",
   "version": "3.12.2"
  }
 },
 "nbformat": 4,
 "nbformat_minor": 2
}
